{
  "nbformat": 4,
  "nbformat_minor": 0,
  "metadata": {
    "colab": {
      "provenance": []
    },
    "kernelspec": {
      "name": "python3",
      "display_name": "Python 3"
    },
    "language_info": {
      "name": "python"
    }
  },
  "cells": [
    {
      "cell_type": "code",
      "execution_count": 1,
      "metadata": {
        "colab": {
          "base_uri": "https://localhost:8080/",
          "height": 373
        },
        "id": "ZdBelEbqJQZZ",
        "outputId": "70576ef5-b937-4643-ff24-d15db60a0747"
      },
      "outputs": [
        {
          "output_type": "error",
          "ename": "FileNotFoundError",
          "evalue": "[Errno 2] No such file or directory: '/kaggle/input/titanic/train.csv'",
          "traceback": [
            "\u001b[0;31m---------------------------------------------------------------------------\u001b[0m",
            "\u001b[0;31mFileNotFoundError\u001b[0m                         Traceback (most recent call last)",
            "\u001b[0;32m<ipython-input-1-524e2eedcd46>\u001b[0m in \u001b[0;36m<cell line: 0>\u001b[0;34m()\u001b[0m\n\u001b[1;32m     14\u001b[0m \u001b[0;34m\u001b[0m\u001b[0m\n\u001b[1;32m     15\u001b[0m \u001b[0;31m# Load dataset\u001b[0m\u001b[0;34m\u001b[0m\u001b[0;34m\u001b[0m\u001b[0m\n\u001b[0;32m---> 16\u001b[0;31m \u001b[0mdf\u001b[0m \u001b[0;34m=\u001b[0m \u001b[0mpd\u001b[0m\u001b[0;34m.\u001b[0m\u001b[0mread_csv\u001b[0m\u001b[0;34m(\u001b[0m\u001b[0;34m'/kaggle/input/titanic/train.csv'\u001b[0m\u001b[0;34m)\u001b[0m\u001b[0;34m\u001b[0m\u001b[0;34m\u001b[0m\u001b[0m\n\u001b[0m\u001b[1;32m     17\u001b[0m \u001b[0;34m\u001b[0m\u001b[0m\n\u001b[1;32m     18\u001b[0m \u001b[0;31m# 1. INITIAL DATA EXPLORATION\u001b[0m\u001b[0;34m\u001b[0m\u001b[0;34m\u001b[0m\u001b[0m\n",
            "\u001b[0;32m/usr/local/lib/python3.11/dist-packages/pandas/io/parsers/readers.py\u001b[0m in \u001b[0;36mread_csv\u001b[0;34m(filepath_or_buffer, sep, delimiter, header, names, index_col, usecols, dtype, engine, converters, true_values, false_values, skipinitialspace, skiprows, skipfooter, nrows, na_values, keep_default_na, na_filter, verbose, skip_blank_lines, parse_dates, infer_datetime_format, keep_date_col, date_parser, date_format, dayfirst, cache_dates, iterator, chunksize, compression, thousands, decimal, lineterminator, quotechar, quoting, doublequote, escapechar, comment, encoding, encoding_errors, dialect, on_bad_lines, delim_whitespace, low_memory, memory_map, float_precision, storage_options, dtype_backend)\u001b[0m\n\u001b[1;32m   1024\u001b[0m     \u001b[0mkwds\u001b[0m\u001b[0;34m.\u001b[0m\u001b[0mupdate\u001b[0m\u001b[0;34m(\u001b[0m\u001b[0mkwds_defaults\u001b[0m\u001b[0;34m)\u001b[0m\u001b[0;34m\u001b[0m\u001b[0;34m\u001b[0m\u001b[0m\n\u001b[1;32m   1025\u001b[0m \u001b[0;34m\u001b[0m\u001b[0m\n\u001b[0;32m-> 1026\u001b[0;31m     \u001b[0;32mreturn\u001b[0m \u001b[0m_read\u001b[0m\u001b[0;34m(\u001b[0m\u001b[0mfilepath_or_buffer\u001b[0m\u001b[0;34m,\u001b[0m \u001b[0mkwds\u001b[0m\u001b[0;34m)\u001b[0m\u001b[0;34m\u001b[0m\u001b[0;34m\u001b[0m\u001b[0m\n\u001b[0m\u001b[1;32m   1027\u001b[0m \u001b[0;34m\u001b[0m\u001b[0m\n\u001b[1;32m   1028\u001b[0m \u001b[0;34m\u001b[0m\u001b[0m\n",
            "\u001b[0;32m/usr/local/lib/python3.11/dist-packages/pandas/io/parsers/readers.py\u001b[0m in \u001b[0;36m_read\u001b[0;34m(filepath_or_buffer, kwds)\u001b[0m\n\u001b[1;32m    618\u001b[0m \u001b[0;34m\u001b[0m\u001b[0m\n\u001b[1;32m    619\u001b[0m     \u001b[0;31m# Create the parser.\u001b[0m\u001b[0;34m\u001b[0m\u001b[0;34m\u001b[0m\u001b[0m\n\u001b[0;32m--> 620\u001b[0;31m     \u001b[0mparser\u001b[0m \u001b[0;34m=\u001b[0m \u001b[0mTextFileReader\u001b[0m\u001b[0;34m(\u001b[0m\u001b[0mfilepath_or_buffer\u001b[0m\u001b[0;34m,\u001b[0m \u001b[0;34m**\u001b[0m\u001b[0mkwds\u001b[0m\u001b[0;34m)\u001b[0m\u001b[0;34m\u001b[0m\u001b[0;34m\u001b[0m\u001b[0m\n\u001b[0m\u001b[1;32m    621\u001b[0m \u001b[0;34m\u001b[0m\u001b[0m\n\u001b[1;32m    622\u001b[0m     \u001b[0;32mif\u001b[0m \u001b[0mchunksize\u001b[0m \u001b[0;32mor\u001b[0m \u001b[0miterator\u001b[0m\u001b[0;34m:\u001b[0m\u001b[0;34m\u001b[0m\u001b[0;34m\u001b[0m\u001b[0m\n",
            "\u001b[0;32m/usr/local/lib/python3.11/dist-packages/pandas/io/parsers/readers.py\u001b[0m in \u001b[0;36m__init__\u001b[0;34m(self, f, engine, **kwds)\u001b[0m\n\u001b[1;32m   1618\u001b[0m \u001b[0;34m\u001b[0m\u001b[0m\n\u001b[1;32m   1619\u001b[0m         \u001b[0mself\u001b[0m\u001b[0;34m.\u001b[0m\u001b[0mhandles\u001b[0m\u001b[0;34m:\u001b[0m \u001b[0mIOHandles\u001b[0m \u001b[0;34m|\u001b[0m \u001b[0;32mNone\u001b[0m \u001b[0;34m=\u001b[0m \u001b[0;32mNone\u001b[0m\u001b[0;34m\u001b[0m\u001b[0;34m\u001b[0m\u001b[0m\n\u001b[0;32m-> 1620\u001b[0;31m         \u001b[0mself\u001b[0m\u001b[0;34m.\u001b[0m\u001b[0m_engine\u001b[0m \u001b[0;34m=\u001b[0m \u001b[0mself\u001b[0m\u001b[0;34m.\u001b[0m\u001b[0m_make_engine\u001b[0m\u001b[0;34m(\u001b[0m\u001b[0mf\u001b[0m\u001b[0;34m,\u001b[0m \u001b[0mself\u001b[0m\u001b[0;34m.\u001b[0m\u001b[0mengine\u001b[0m\u001b[0;34m)\u001b[0m\u001b[0;34m\u001b[0m\u001b[0;34m\u001b[0m\u001b[0m\n\u001b[0m\u001b[1;32m   1621\u001b[0m \u001b[0;34m\u001b[0m\u001b[0m\n\u001b[1;32m   1622\u001b[0m     \u001b[0;32mdef\u001b[0m \u001b[0mclose\u001b[0m\u001b[0;34m(\u001b[0m\u001b[0mself\u001b[0m\u001b[0;34m)\u001b[0m \u001b[0;34m->\u001b[0m \u001b[0;32mNone\u001b[0m\u001b[0;34m:\u001b[0m\u001b[0;34m\u001b[0m\u001b[0;34m\u001b[0m\u001b[0m\n",
            "\u001b[0;32m/usr/local/lib/python3.11/dist-packages/pandas/io/parsers/readers.py\u001b[0m in \u001b[0;36m_make_engine\u001b[0;34m(self, f, engine)\u001b[0m\n\u001b[1;32m   1878\u001b[0m                 \u001b[0;32mif\u001b[0m \u001b[0;34m\"b\"\u001b[0m \u001b[0;32mnot\u001b[0m \u001b[0;32min\u001b[0m \u001b[0mmode\u001b[0m\u001b[0;34m:\u001b[0m\u001b[0;34m\u001b[0m\u001b[0;34m\u001b[0m\u001b[0m\n\u001b[1;32m   1879\u001b[0m                     \u001b[0mmode\u001b[0m \u001b[0;34m+=\u001b[0m \u001b[0;34m\"b\"\u001b[0m\u001b[0;34m\u001b[0m\u001b[0;34m\u001b[0m\u001b[0m\n\u001b[0;32m-> 1880\u001b[0;31m             self.handles = get_handle(\n\u001b[0m\u001b[1;32m   1881\u001b[0m                 \u001b[0mf\u001b[0m\u001b[0;34m,\u001b[0m\u001b[0;34m\u001b[0m\u001b[0;34m\u001b[0m\u001b[0m\n\u001b[1;32m   1882\u001b[0m                 \u001b[0mmode\u001b[0m\u001b[0;34m,\u001b[0m\u001b[0;34m\u001b[0m\u001b[0;34m\u001b[0m\u001b[0m\n",
            "\u001b[0;32m/usr/local/lib/python3.11/dist-packages/pandas/io/common.py\u001b[0m in \u001b[0;36mget_handle\u001b[0;34m(path_or_buf, mode, encoding, compression, memory_map, is_text, errors, storage_options)\u001b[0m\n\u001b[1;32m    871\u001b[0m         \u001b[0;32mif\u001b[0m \u001b[0mioargs\u001b[0m\u001b[0;34m.\u001b[0m\u001b[0mencoding\u001b[0m \u001b[0;32mand\u001b[0m \u001b[0;34m\"b\"\u001b[0m \u001b[0;32mnot\u001b[0m \u001b[0;32min\u001b[0m \u001b[0mioargs\u001b[0m\u001b[0;34m.\u001b[0m\u001b[0mmode\u001b[0m\u001b[0;34m:\u001b[0m\u001b[0;34m\u001b[0m\u001b[0;34m\u001b[0m\u001b[0m\n\u001b[1;32m    872\u001b[0m             \u001b[0;31m# Encoding\u001b[0m\u001b[0;34m\u001b[0m\u001b[0;34m\u001b[0m\u001b[0m\n\u001b[0;32m--> 873\u001b[0;31m             handle = open(\n\u001b[0m\u001b[1;32m    874\u001b[0m                 \u001b[0mhandle\u001b[0m\u001b[0;34m,\u001b[0m\u001b[0;34m\u001b[0m\u001b[0;34m\u001b[0m\u001b[0m\n\u001b[1;32m    875\u001b[0m                 \u001b[0mioargs\u001b[0m\u001b[0;34m.\u001b[0m\u001b[0mmode\u001b[0m\u001b[0;34m,\u001b[0m\u001b[0;34m\u001b[0m\u001b[0;34m\u001b[0m\u001b[0m\n",
            "\u001b[0;31mFileNotFoundError\u001b[0m: [Errno 2] No such file or directory: '/kaggle/input/titanic/train.csv'"
          ]
        }
      ],
      "source": [
        "'''\n",
        "Title: Titanic Survival Analysis - Exploratory Data Analysis\n",
        "Name: Daniel Muthama\n",
        "Date: 30 May 2025\n",
        "Dataset: https://www.kaggle.com/competitions/titanic\n",
        "'''\n",
        "\n",
        "# Import libraries\n",
        "import pandas as pd\n",
        "import numpy as np\n",
        "import seaborn as sns\n",
        "import matplotlib.pyplot as plt\n",
        "from scipy import stats\n",
        "\n",
        "# Load dataset\n",
        "df = pd.read_csv('/kaggle/input/titanic/train.csv')\n",
        "\n",
        "# 1. INITIAL DATA EXPLORATION\n",
        "print(\"=== INITIAL DATA EXPLORATION ===\")\n",
        "print(f\"Dataset Dimensions: {df.shape}\")\n",
        "print(\"\\nFirst 5 Rows:\")\n",
        "print(df.head())\n",
        "print(\"\\nData Types and Missing Values:\")\n",
        "print(df.info())\n",
        "print(\"\\nSummary Statistics:\")\n",
        "print(df.describe(include='all'))\n",
        "print(\"\\nUnique Values per Column:\")\n",
        "print(df.nunique())\n",
        "print(f\"\\nDuplicate Rows: {df.duplicated().sum()}\")\n"
      ]
    },
    {
      "cell_type": "code",
      "source": [
        "# 2. HANDLING MISSING VALUES & OUTLIERS\n",
        "print(\"\\n=== MISSING VALUES & OUTLIERS ===\")\n",
        "# Visualize missing values\n",
        "plt.figure(figsize=(10, 6))\n",
        "sns.heatmap(df.isnull(), cbar=False, cmap='viridis')\n",
        "plt.title('Missing Values Heatmap')\n",
        "plt.savefig('missing_values.png')\n",
        "plt.show()\n",
        "\n",
        "# Missing data treatment\n",
        "df['Age'].fillna(df['Age'].median(), inplace=True)\n",
        "df['Embarked'].fillna(df['Embarked'].mode()[0], inplace=True)\n",
        "df.drop('Cabin', axis=1, inplace=True)\n",
        "print(\"\\nMissing Values After Treatment:\")\n",
        "print(df.isnull().sum())\n",
        "\n",
        "# Outlier detection and treatment\n",
        "plt.figure(figsize=(12, 4))\n",
        "plt.subplot(1, 2, 1)\n",
        "sns.boxplot(x=df['Fare'])\n",
        "plt.title('Fare Distribution Before Treatment')\n",
        "\n",
        "# Cap fare outliers using IQR method\n",
        "Q1 = df['Fare'].quantile(0.25)\n",
        "Q3 = df['Fare'].quantile(0.75)\n",
        "IQR = Q3 - Q1\n",
        "df['Fare'] = np.where(df['Fare'] > Q3 + 3*IQR, Q3 + 3*IQR, df['Fare'])\n",
        "\n",
        "plt.subplot(1, 2, 2)\n",
        "sns.boxplot(x=df['Fare'])\n",
        "plt.title('Fare Distribution After Treatment')\n",
        "plt.tight_layout()\n",
        "plt.savefig('outlier_treatment.png')\n",
        "plt.show()"
      ],
      "metadata": {
        "id": "pzAwLpu7LrO5"
      },
      "execution_count": null,
      "outputs": []
    },
    {
      "cell_type": "code",
      "source": [
        "# 3. UNIVARIATE ANALYSIS\n",
        "print(\"\\n=== UNIVARIATE ANALYSIS ===\")\n",
        "# Categorical features\n",
        "cat_cols = ['Survived', 'Pclass', 'Sex', 'Embarked']\n",
        "plt.figure(figsize=(15, 10))\n",
        "for i, col in enumerate(cat_cols, 1):\n",
        "    plt.subplot(2, 2, i)\n",
        "    sns.countplot(data=df, x=col)\n",
        "    plt.title(f'{col} Distribution')\n",
        "plt.tight_layout()\n",
        "plt.savefig('categorical_distributions.png')\n",
        "plt.show()\n",
        "\n",
        "# Numerical features\n",
        "num_cols = ['Age', 'Fare']\n",
        "plt.figure(figsize=(12, 5))\n",
        "for i, col in enumerate(num_cols, 1):\n",
        "    plt.subplot(1, 2, i)\n",
        "    sns.histplot(df[col], kde=True)\n",
        "    plt.title(f'{col} Distribution')\n",
        "plt.tight_layout()\n",
        "plt.savefig('numerical_distributions.png')\n",
        "plt.show()"
      ],
      "metadata": {
        "id": "C-5PkUrQLyvJ"
      },
      "execution_count": null,
      "outputs": []
    },
    {
      "cell_type": "code",
      "source": [
        "# 4. BIVARIATE ANALYSIS\n",
        "print(\"\\n=== BIVARIATE ANALYSIS ===\")\n",
        "# Survival vs categorical features\n",
        "plt.figure(figsize=(15, 10))\n",
        "for i, col in enumerate(['Pclass', 'Sex', 'Embarked'], 1):\n",
        "    plt.subplot(2, 2, i)\n",
        "    sns.countplot(data=df, x=col, hue='Survived')\n",
        "    plt.title(f'Survival by {col}')\n",
        "plt.tight_layout()\n",
        "plt.savefig('survival_categorical.png')\n",
        "plt.show()\n",
        "\n",
        "# Survival vs numerical features\n",
        "plt.figure(figsize=(12, 5))\n",
        "for i, col in enumerate(['Age', 'Fare'], 1):\n",
        "    plt.subplot(1, 2, i)\n",
        "    sns.boxplot(data=df, x='Survived', y=col)\n",
        "    plt.title(f'Survival by {col}')\n",
        "plt.tight_layout()\n",
        "plt.savefig('survival_numerical.png')\n",
        "plt.show()"
      ],
      "metadata": {
        "id": "J0kPCVALL4pA"
      },
      "execution_count": null,
      "outputs": []
    },
    {
      "cell_type": "code",
      "source": [
        "# 5. MULTIVARIATE ANALYSIS\n",
        "print(\"\\n=== MULTIVARIATE ANALYSIS ===\")\n",
        "# Interaction: Pclass, Age, and Survival\n",
        "plt.figure(figsize=(10, 6))\n",
        "sns.violinplot(data=df, x='Pclass', y='Age', hue='Survived', split=True)\n",
        "plt.title('Survival by Class and Age')\n",
        "plt.savefig('pclass_age_survival.png')\n",
        "plt.show()\n",
        "\n",
        "# Interaction: Embarked, Pclass, and Survival\n",
        "plt.figure(figsize=(10, 6))\n",
        "sns.countplot(data=df, x='Embarked', hue='Survived', palette='viridis')\n",
        "plt.title('Survival by Embarkation Port')\n",
        "plt.savefig('embarked_survival.png')\n",
        "plt.show()\n",
        "\n",
        "# Correlation matrix\n",
        "plt.figure(figsize=(10, 6))\n",
        "corr = df.corr(numeric_only=True)\n",
        "sns.heatmap(corr, annot=True, cmap='coolwarm')\n",
        "plt.title('Feature Correlation Matrix')\n",
        "plt.savefig('correlation_matrix.png')\n",
        "plt.show()"
      ],
      "metadata": {
        "id": "c5IHXiChL-kN"
      },
      "execution_count": null,
      "outputs": []
    },
    {
      "cell_type": "code",
      "source": [
        "# 6. TARGET VARIABLE ANALYSIS\n",
        "print(\"\\n=== TARGET VARIABLE (SURVIVED) ANALYSIS ===\")\n",
        "# Target distribution\n",
        "plt.figure(figsize=(8, 5))\n",
        "sns.countplot(data=df, x='Survived')\n",
        "plt.title('Survival Distribution (0 = Died, 1 = Survived)')\n",
        "plt.savefig('target_distribution.png')\n",
        "plt.show()\n",
        "\n",
        "print(f\"Survival Rate: {df['Survived'].mean()*100:.1f}%\")\n",
        "\n",
        "# Key survival factors\n",
        "plt.figure(figsize=(12, 6))\n",
        "plt.subplot(1, 2, 1)\n",
        "sns.barplot(data=df, x='Sex', y='Survived', ci=None)\n",
        "plt.title('Survival Rate by Gender')\n",
        "\n",
        "plt.subplot(1, 2, 2)\n",
        "sns.barplot(data=df, x='Pclass', y='Survived', ci=None)\n",
        "plt.title('Survival Rate by Class')\n",
        "plt.tight_layout()\n",
        "plt.savefig('key_survival_factors.png')\n",
        "plt.show()\n",
        "\n",
        "# Interactive effect: Class and Gender\n",
        "plt.figure(figsize=(10, 6))\n",
        "sns.pointplot(data=df, x='Pclass', y='Survived', hue='Sex', ci=None)\n",
        "plt.title('Survival Rate: Class-Gender Interaction')\n",
        "plt.savefig('class_gender_interaction.png')\n",
        "plt.show()\n",
        "\n",
        "print(\"\\n=== ANALYSIS COMPLETE ===\")"
      ],
      "metadata": {
        "id": "ePCIehI-MHgK"
      },
      "execution_count": null,
      "outputs": []
    }
  ]
}